{
 "cells": [
  {
   "cell_type": "code",
   "execution_count": 88,
   "metadata": {},
   "outputs": [],
   "source": [
    "import os\n",
    "from pymorphy2 import MorphAnalyzer\n",
    "morph = MorphAnalyzer()"
   ]
  },
  {
   "cell_type": "code",
   "execution_count": 59,
   "metadata": {},
   "outputs": [
    {
     "name": "stdout",
     "output_type": "stream",
     "text": [
      "['1_1.txt', '1_2.txt']\n"
     ]
    }
   ],
   "source": [
    "my_dir = \".\\subtitles\"\n",
    "my_subs = os.listdir(path=my_dir)\n",
    "print(my_subs)"
   ]
  },
  {
   "cell_type": "code",
   "execution_count": 98,
   "metadata": {},
   "outputs": [],
   "source": [
    "def make_sentences(text):\n",
    "    new_text = []\n",
    "    text_one = []\n",
    "    text_two = []\n",
    "    text_three = []\n",
    "    text_four = []\n",
    "    text_five = []\n",
    "    punct = '?!.\"'\n",
    "    for t in text:\n",
    "        text_one.extend(t.split('.'))\n",
    "    for t in text_one:\n",
    "        text_two.extend(t.split('?'))\n",
    "    for t in text_two:\n",
    "        text_three.extend(t.split('!'))\n",
    "    for t in text_three:\n",
    "        text_four.extend(t.split('«'))\n",
    "    for t in text_four:\n",
    "        text_five.extend(t.split(':'))\n",
    "    for t in text_five:\n",
    "        new_text.extend(t.split('@'))\n",
    "    return new_text"
   ]
  },
  {
   "cell_type": "code",
   "execution_count": 122,
   "metadata": {},
   "outputs": [
    {
     "name": "stdout",
     "output_type": "stream",
     "text": [
      ".\\subtitles\\1_1.txt\n",
      "{'ирак,', 'джон', 'дженнифер', 'хитроу', 'майку,', 'филлимор', 'sms,', 'входящий', 'холмсом,', 'санта-моника', 'керра', 'дэвенпорт,', 'лестрейду,', 'донован', 'ватерлоо,', 'флорида', 'лондоне,', 'мартин', 'майк,', 'салли', 'нортамберленд-стрит', 'шерлок', 'хадсон', 'андерсон', 'бартс', 'анджело', 'рэйчел', 'хадсон,', 'джон,', 'холмс', 'гэтисса', 'фримэн', 'лондон', 'марка', 'гарри', 'паттерсон', 'тёрнер,', 'донован,', 'роланд', 'лестрейд', 'бейкер-стрит,', 'великобритании;', 'автор', 'клара', 'цру', 'субтитр', 'камбербэтч,', 'уилсон', 'майкрофт', 'джеффри', 'холмса,', 'холмс,', 'моффат,', 'бэт', 'стамфорд', 'майк', 'билль', 'уотсон', 'большой', 'sms', 'ирак', 'бейкер-стрит', 'сити', 'конана', 'артур', 'молли,', 'кардифф', 'дойла', 'афганистан', 'уотсон,', 'лористон-гарденз', 'мейл', 'джеймс', 'брикстон'}\n",
      ".\\subtitles\\1_2.txt\n",
      "{'хэрроу,', 'криспианс', 'биография', 'мартин', 'аманда', 'джон,', 'форт-нокс', 'себастиан', 'брайан', 'янцзы', 'автор', 'квалификация', 'диммокнуть', 'камбербэтч,', 'лукиснуть', 'чжу', 'что', 'китая,', 'лондон,', 'ван', 'артур', 'северо-западный', 'азия', 'ноздря', 'сулинь', 'уилльяма,', 'шаня', 'дракон', 'криспиан;', 'лукиса', 'хадсон,', 'скотланд-ярд', 'библия', 'англия', 'брайтлинг', 'азии,', 'гэтисс,', 'эдди', 'уотсон', 'томпсон', 'гонконгом,', 'чжи', 'дойла', 'атлантику,', 'оксфордский', 'манхэттен', 'лукис,', 'джария', 'запад', 'шерлок,', 'шерлок', 'гонконг', 'холмс', 'магазин', 'доклендсе,', 'чжоу', 'кун', 'человек-паук', 'тонга', 'кун;', 'варфоломей', 'цзяньшэнить', 'бейкер-стрит,', 'китай', 'субтитр', 'оксфорд', 'ронай', 'жёлтый', 'китае,', 'мин,', 'мао', 'джон', 'эй,', 'лондоне,', 'моффат', 'лондон', 'фримэн', 'кун,', 'лестрейд', 'восток', 'просить', 'рэс', 'стивен', 'далянь-лондон', 'далянь', 'холмс,', 'сара', 'хань', 'дракона,', 'конана', 'лоно', 'эгон', 'западно-кенсингтонский'}\n"
     ]
    }
   ],
   "source": [
    "punct = '?!.\"'\n",
    "for s in my_subs:\n",
    "    my_path = os.path.join(my_dir, s)\n",
    "    print(my_path)\n",
    "    names = []\n",
    "    new_names = []\n",
    "    with open (my_path, encoding = 'utf-8') as file:\n",
    "        f = file.readlines()\n",
    "        my_sentences = make_sentences(f)\n",
    "        for s in my_sentences:\n",
    "            my_s = s.split(' ')\n",
    "            #print(my_s)\n",
    "            new_my_s = []\n",
    "            for n in my_s:\n",
    "                if not n == '':\n",
    "                    if '\\n' in n:\n",
    "                        n = n[:-1]\n",
    "                    new_my_s.append(n)\n",
    "            #print('!', new_my_s[:-1])\n",
    "            for word in new_my_s[1:]:\n",
    "                if word != '':\n",
    "                    if word[0].isupper() and len(word) >2:\n",
    "                        #print(word)\n",
    "                        #print(s)\n",
    "                        names.append(word)\n",
    "    for n in names:\n",
    "        if n.endswith('»'):\n",
    "            n = n[:-1]\n",
    "        p = morph.parse(n)[0]\n",
    "        new_names.append(p.normal_form)\n",
    "    print(set(new_names))"
   ]
  },
  {
   "cell_type": "code",
   "execution_count": null,
   "metadata": {},
   "outputs": [],
   "source": []
  }
 ],
 "metadata": {
  "kernelspec": {
   "display_name": "Python 3",
   "language": "python",
   "name": "python3"
  },
  "language_info": {
   "codemirror_mode": {
    "name": "ipython",
    "version": 3
   },
   "file_extension": ".py",
   "mimetype": "text/x-python",
   "name": "python",
   "nbconvert_exporter": "python",
   "pygments_lexer": "ipython3",
   "version": "3.8.6rc1"
  }
 },
 "nbformat": 4,
 "nbformat_minor": 4
}
