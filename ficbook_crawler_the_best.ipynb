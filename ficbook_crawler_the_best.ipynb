{
 "cells": [
  {
   "cell_type": "code",
   "execution_count": null,
   "metadata": {},
   "outputs": [],
   "source": [
    "import requests\n",
    "from pprint import pprint\n",
    "import time\n",
    "from fake_useragent import UserAgent\n",
    "ua = UserAgent(verify_ssl=False)\n",
    "session = requests.session()\n",
    "from pprint import pprint\n",
    "from html import unescape\n",
    "from bs4 import BeautifulSoup\n",
    "import re\n",
    "import time\n",
    "import random\n",
    "from collections import Counter"
   ]
  },
  {
   "cell_type": "code",
   "execution_count": null,
   "metadata": {},
   "outputs": [],
   "source": [
    "#NB! Фикбук банит по IP!!\n",
    "proxies = [\"122.50.5.148:10000\",\n",
    "\"167.172.180.40:34291\",\n",
    "\"34.90.194.216:3128\", \"185.206.175.24:80\",\n",
    "\"35.178.190.5:8080\",\n",
    "\"161.35.70.249:3128\",\n",
    "\"182.237.18.6:82\",\n",
    "\"59.124.224.180:3128\",\n",
    "\"122.50.5.148:10000\",\n",
    "\"167.172.180.40:34291\",\n",
    "\"178.210.129.150:1234\",\n",
    "\"185.35.101.17:8081\",\n",
    "\"35.203.144.50:5597\",\n",
    "\"167.172.180.46:37598\",\n",
    "\"167.71.41.173:43667\",\n",
    "\"157.230.103.189:34013\",\n",
    "\"35.223.68.68:3333\",\n",
    "\"213.142.218.226:40816\",\n",
    "\"51.158.172.165:8811\",\n",
    "\"94.189.133.93:8080\",\n",
    "\"167.172.191.249:34327\",\n",
    "\"103.114.53.2:8080\",\n",
    "\"45.234.192.224:8080\",\n",
    "\"167.172.109.12:32805\",\n",
    "\"167.172.180.46:38971\",\n",
    "\"43.227.129.193:83\",\n",
    "\"37.187.96.66:8118\",\n",
    "\"103.83.118.10:55443\",\n",
    "\"103.46.233.190:81\",\n",
    "\"139.180.131.23:3128\",\n",
    "\"77.28.97.34:48458\",\n",
    "\"199.247.16.136:8080\",\n",
    "\"180.211.192.58:8080\",\n",
    "\"88.220.104.178:8080\",\n",
    "\"68.183.221.156:39800\",\n",
    "\"46.36.74.60:8080\",\n",
    "\"138.117.84.161:8080\",\n",
    "\"84.42.4.170:8080\",\n",
    "\"186.24.12.194:8080\",\n",
    "\"129.232.134.107:3128\",\n",
    "\"189.39.123.238:8080\",\n",
    "\"49.156.35.22:8080\",\n",
    "\"34.90.194.216:3128\",\n",
    "\"178.62.108.207:3129\",\n",
    "\"220.150.77.91:6000\",\n",
    "\"45.7.255.74:999\",\n",
    "\"35.223.68.68:3333\"]"
   ]
  },
  {
   "cell_type": "code",
   "execution_count": null,
   "metadata": {},
   "outputs": [],
   "source": [
    "def parse_page(page_number):\n",
    "    #сюда вставить ссылку с номером страниц\n",
    "    url = f'https://ficbook.net/find?fandom_filter=fandom&fandom_group_id=1&fandom_ids%5B0%5D=435&deny_other=1&sizes%5B0%5D=1&sizes%5B1%5D=2&sizes%5B2%5D=3&sizes%5B3%5D=4&pages_min=&pages_max=&ratings%5B0%5D=5&ratings%5B1%5D=6&ratings%5B2%5D=7&ratings%5B3%5D=8&ratings%5B4%5D=9&directions%5B0%5D=4&likes_min=&likes_max=&date_create_min=2021-03-22&date_create_max=2021-03-22&date_update_min=2021-03-22&date_update_max=2021-03-22&title=&rnd=11530190&find=Найти!&p={page_number}#result'   \n",
    "    headers = {'User-Agent': ua.random}\n",
    "    for p in proxies:\n",
    "        try:\n",
    "            print(p)\n",
    "            known_proxy_ip = p\n",
    "            proxy = {'http': known_proxy_ip, 'https': known_proxy_ip}\n",
    "            req = session.get(url, proxies=proxy, headers={'User-Agent': ua.random})\n",
    "            page = req.text\n",
    "            page_soup = BeautifulSoup(page, 'html.parser')\n",
    "            title = page_soup.find_all('title')\n",
    "            link = page_soup.find_all('section', {'class': 'fanfic-thumb-block'})\n",
    "            if 'Проверка' in str(title):\n",
    "                print('Проверка')\n",
    "            else:\n",
    "                break\n",
    "        except Exception as e:\n",
    "            print(e)\n",
    "    return link"
   ]
  },
  {
   "cell_type": "code",
   "execution_count": null,
   "metadata": {},
   "outputs": [],
   "source": [
    "def parse_text(link):\n",
    "    text = ''\n",
    "    tags = []\n",
    "    people = []\n",
    "    fic_soup = BeautifulSoup(str(link), 'html.parser')\n",
    "    title = fic_soup.find('h3').text\n",
    "    my_people = fic_soup.find_all('a', {'class': 'pairing-link'})\n",
    "    my_tags = fic_soup.find_all('a', {'class': 'tag'})\n",
    "    for t in my_tags:\n",
    "        print(t.text)\n",
    "        tags.append(t.text)\n",
    "    for p in my_people:\n",
    "        print(p.text)\n",
    "        people.append(p.text)    \n",
    "    return people, tags, title"
   ]
  },
  {
   "cell_type": "code",
   "execution_count": null,
   "metadata": {},
   "outputs": [],
   "source": [
    "already_read = []\n",
    "#all_tags = []\n",
    "#all_people = []"
   ]
  },
  {
   "cell_type": "code",
   "execution_count": null,
   "metadata": {},
   "outputs": [],
   "source": [
    "all_tags = []\n",
    "all_people = []"
   ]
  },
  {
   "cell_type": "code",
   "execution_count": null,
   "metadata": {},
   "outputs": [],
   "source": [
    "def write_tags(tags, title, file):\n",
    "    with open(file, encoding = 'utf-8', mode = 'a') as corpus:\n",
    "        corpus.write('# ')\n",
    "        corpus.write(str(title))\n",
    "        corpus.write('\\n')\n",
    "        for t in tags:\n",
    "            corpus.write(t)\n",
    "            corpus.write('\\n')"
   ]
  },
  {
   "cell_type": "code",
   "execution_count": null,
   "metadata": {},
   "outputs": [],
   "source": [
    "#Тут надо переделать словарь, но я не разбираюсь в персонажах\n",
    "p_and_p_dict = {\n",
    "    'Элизабет': 'Элизабет Беннет',\n",
    "    'Элизабет Беннет': 'Элизабет Беннет',\n",
    "    'Лиззи': 'Элизабет Беннет',\n",
    "    'Дарси': 'Мистер Дарси',\n",
    "    'Мистер Дарси': 'Мистер Дарси', \n",
    "    'Фицуильям Дарси': 'Мистер Дарси', \n",
    "    'мистер Дарси': 'Мистер Дарси'\n",
    "}"
   ]
  },
  {
   "cell_type": "code",
   "execution_count": null,
   "metadata": {},
   "outputs": [],
   "source": [
    "def clean(p):\n",
    "    clean_people = []\n",
    "    pp = p.split('/')\n",
    "    #print('pp', pp)\n",
    "    for pp_two in pp:\n",
    "        #print(pp_two)\n",
    "        pp_three = pp_two.split('\\\\')\n",
    "        #print('three', pp_three)\n",
    "        for pp_four in pp_three:\n",
    "            #if ' и ' in pp_four:\n",
    "            #print(' и ')\n",
    "            #    \n",
    "            pp_five = pp_four.split(' и ')\n",
    "            #else:\n",
    "                #pp_five = pp_four\n",
    "            #print(5, pp_five)\n",
    "            for pp_six in pp_five:\n",
    "            #if '|' in pp_six:\n",
    "                pp_seven = pp_six.split('|')\n",
    "                for pp_eight in pp_seven:\n",
    "                    pp_nine = pp_eight.split(', ')\n",
    "                    #print(9, pp_nine)\n",
    "                    for n in pp_nine:\n",
    "                        if n != '':\n",
    "                            if ']' in n:\n",
    "                                nn = n.split(']')[1]\n",
    "                            elif '!' in n:\n",
    "                                nn = n.split('!')[1]\n",
    "                            else:\n",
    "                                nn = n\n",
    "                            if nn != '':\n",
    "                                if nn[0] == ' ':\n",
    "                                    nn = nn[1:]\n",
    "                            clean_people.append(nn)\n",
    "    return clean_people"
   ]
  },
  {
   "cell_type": "code",
   "execution_count": null,
   "metadata": {},
   "outputs": [],
   "source": [
    "def write_people(people, title, file, dictionary, all_people):\n",
    "    new_people = []\n",
    "    with open(file, encoding = 'utf-8', mode = 'a') as corpus:\n",
    "        corpus.write('# ')\n",
    "        corpus.write(title)\n",
    "        corpus.write('\\n')\n",
    "        for person in people:\n",
    "            p = clean(person)\n",
    "            for new_p in p:\n",
    "                print(new_p)\n",
    "                if new_p in dictionary.keys():\n",
    "                    new_p = dictionary[new_p]\n",
    "                new_people.append(new_p)\n",
    "                #print(set(new_people))\n",
    "        for p_p in set(new_people):\n",
    "            corpus.write(p_p)\n",
    "            corpus.write('\\n')\n",
    "            all_people.append(p_p)\n",
    "        print(all_people)\n",
    "        return all_people"
   ]
  },
  {
   "cell_type": "code",
   "execution_count": null,
   "metadata": {},
   "outputs": [],
   "source": [
    "titles = []\n",
    "for x in range(9, 10):\n",
    "    print('page', x)\n",
    "    link = parse_page(x)\n",
    "    for l in link:\n",
    "        people, tags, title = parse_text(l)\n",
    "        #all_people.extend(people)\n",
    "        if title not in already_read:\n",
    "            already_read.append(title)\n",
    "            all_tags.extend(tags)\n",
    "            write_tags(tags, title, 'file_taga.txt')\n",
    "            all_people = write_people(people, title, 'file_people.txt', p_and_p_dict, all_people)"
   ]
  },
  {
   "cell_type": "code",
   "execution_count": null,
   "metadata": {},
   "outputs": [],
   "source": [
    "print(Counter(all_tags))"
   ]
  },
  {
   "cell_type": "code",
   "execution_count": null,
   "metadata": {},
   "outputs": [],
   "source": [
    "print(Counter(all_people))"
   ]
  }
 ],
 "metadata": {
  "kernelspec": {
   "display_name": "Python 3",
   "language": "python",
   "name": "python3"
  },
  "language_info": {
   "codemirror_mode": {
    "name": "ipython",
    "version": 3
   },
   "file_extension": ".py",
   "mimetype": "text/x-python",
   "name": "python",
   "nbconvert_exporter": "python",
   "pygments_lexer": "ipython3",
   "version": "3.8.6rc1"
  }
 },
 "nbformat": 4,
 "nbformat_minor": 4
}
