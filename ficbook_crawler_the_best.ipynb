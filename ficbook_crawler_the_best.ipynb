{
 "cells": [
  {
   "cell_type": "markdown",
   "metadata": {},
   "source": [
    "Импорт нужных модулей:"
   ]
  },
  {
   "cell_type": "code",
   "execution_count": null,
   "metadata": {},
   "outputs": [],
   "source": [
    "import requests\n",
    "from pprint import pprint\n",
    "import time\n",
    "from fake_useragent import UserAgent\n",
    "ua = UserAgent(verify_ssl=False)\n",
    "session = requests.session()\n",
    "from pprint import pprint\n",
    "from html import unescape\n",
    "from bs4 import BeautifulSoup\n",
    "import re\n",
    "import time\n",
    "import random\n",
    "from collections import Counter"
   ]
  },
  {
   "cell_type": "markdown",
   "metadata": {},
   "source": [
    "**NB!** Фикбук банит по IP, если слишком часто заходить просто со своего адреса, поэтому нудно следующее:\n",
    "-  список совбодных ip;\n",
    "-  цикл, который проверяет, можно ли подключиться к этому адресу\n",
    "\n",
    "Также на всякий случай использован `UserAgent`.\n",
    "\n",
    "Благодаря всему этому можно не использовать `time.sleep`: повысится скорость работы программы, что очень хорошо, когда нужно обойти 50 страниц.\n",
    "\n",
    "Если программа долго работает, часто выводит ошибки доступа, можно или попробовать перезапустить её, или найти новый список адресов."
   ]
  },
  {
   "cell_type": "code",
   "execution_count": null,
   "metadata": {},
   "outputs": [],
   "source": [
    "proxies = [\n",
    "    \"122.50.5.148:10000\",\n",
    "    \"200.160.119.73:8080\",\n",
    "    \"36.27.223.80:32520\",\n",
    "    \"72.223.168.67:4145\",\n",
    "    \"36.27.223.80:30008\",\n",
    "    \"72.212.63.101:4145\",\n",
    "    \"200.160.119.73:8080\",\n",
    "    \"157.25.84.210:8080\",\n",
    "    \"122.50.5.148:10000\",\n",
    "    \"167.172.180.40:34291\",\n",
    "    \"34.90.194.216:3128\",\n",
    "    \"185.206.175.24:80\",\n",
    "    \"35.178.190.5:8080\",\n",
    "    \"161.35.70.249:3128\",\n",
    "    \"182.237.18.6:82\",\n",
    "    \"59.124.224.180:3128\",\n",
    "    \"122.50.5.148:10000\",\n",
    "    \"167.172.180.40:34291\",\n",
    "    \"178.210.129.150:1234\",\n",
    "    \"185.35.101.17:8081\",\n",
    "    \"35.203.144.50:5597\",\n",
    "    \"167.172.180.46:37598\",\n",
    "    \"167.71.41.173:43667\",\n",
    "    \"157.230.103.189:34013\",\n",
    "    \"35.223.68.68:3333\",\n",
    "    \"213.142.218.226:40816\",\n",
    "    \"51.158.172.165:8811\",\n",
    "    \"94.189.133.93:8080\",\n",
    "    \"167.172.191.249:34327\",\n",
    "    \"103.114.53.2:8080\",\n",
    "    \"45.234.192.224:8080\",\n",
    "    \"167.172.109.12:32805\",\n",
    "    \"167.172.180.46:38971\",\n",
    "    \"43.227.129.193:83\",\n",
    "    \"37.187.96.66:8118\",\n",
    "    \"103.83.118.10:55443\",\n",
    "    \"103.46.233.190:81\",\n",
    "    \"139.180.131.23:3128\",\n",
    "    \"77.28.97.34:48458\",\n",
    "    \"199.247.16.136:8080\",\n",
    "    \"180.211.192.58:8080\",\n",
    "    \"88.220.104.178:8080\",\n",
    "    \"68.183.221.156:39800\",\n",
    "    \"46.36.74.60:8080\",\n",
    "    \"138.117.84.161:8080\",\n",
    "    \"84.42.4.170:8080\",\n",
    "    \"186.24.12.194:8080\",\n",
    "    \"129.232.134.107:3128\",\n",
    "    \"189.39.123.238:8080\",\n",
    "    \"49.156.35.22:8080\",\n",
    "    \"34.90.194.216:3128\",\n",
    "    \"178.62.108.207:3129\",\n",
    "    \"220.150.77.91:6000\",\n",
    "    \"45.7.255.74:999\",\n",
    "    \"35.223.68.68:3333\"]"
   ]
  },
  {
   "cell_type": "markdown",
   "metadata": {},
   "source": [
    "Собственно, из следующей функции важно получить только `link`, то есть шапку с информацией о тексте. Дальше все данные будем получать именно из неё.\n",
    "\n",
    "Однако, поскольку мне несколько раз попадалась проверка, не робот ли программа, и ничего не выходило, пришлось добавить обход страницы с капчей."
   ]
  },
  {
   "cell_type": "code",
   "execution_count": null,
   "metadata": {},
   "outputs": [],
   "source": [
    "def parse_page(page_number, z):\n",
    "    #сюда вставить ссылку с номером страниц\n",
    "    url = f'https://ficbook.net/find?fandom_filter=fandom&fandom_group_id=1&fandom_ids%5B0%5D=435&deny_other=1&sizes%5B0%5D=1&sizes%5B1%5D=2&sizes%5B2%5D=3&sizes%5B3%5D=4&pages_min=&pages_max=&ratings%5B0%5D=5&ratings%5B1%5D=6&ratings%5B2%5D=7&ratings%5B3%5D=8&ratings%5B4%5D=9&transl=1&statuses%5B0%5D=1&statuses%5B1%5D=2&statuses%5B2%5D=3&directions%5B0%5D={z}&likes_min=&likes_max=&date_create_min=2021-02-25&date_create_max=2021-03-25&date_update_min=2021-02-25&date_update_max=2021-03-25&title=&sort=3&rnd=1742132714&find=Найти!&p={page_number}#result'   \n",
    "    headers = {'User-Agent': ua.random}\n",
    "    for p in proxies:\n",
    "        try:\n",
    "            print(p)\n",
    "            known_proxy_ip = p\n",
    "            proxy = {'http': known_proxy_ip, 'https': known_proxy_ip}\n",
    "            req = session.get(url, proxies=proxy, headers={'User-Agent': ua.random})\n",
    "            page = req.text\n",
    "            page_soup = BeautifulSoup(page, 'html.parser')\n",
    "            title = page_soup.find_all('title') #заголовок страницы\n",
    "            link = page_soup.find_all('section', {'class': 'fanfic-thumb-block'}) #шапка текста\n",
    "            if 'Проверка' in str(title):\n",
    "                print('Проверка') #такое слово есть только в заголовке страницы с капчей.\n",
    "            else:\n",
    "                break #если всё хорошо, выход из цикла\n",
    "        except Exception as e:\n",
    "            print(e)\n",
    "    return link"
   ]
  },
  {
   "cell_type": "markdown",
   "metadata": {},
   "source": [
    "Эта функция получает из шапки:\n",
    "-  заголовок `title`;\n",
    "-  список персонажей `people`;\n",
    "-  список тегов `tags`.\n",
    "\n",
    "Список тегов можно использовать сразу, а с персонажами надо ещё поразбираться: некоторые записаны через косую черту, некоторые вообще непонятно как."
   ]
  },
  {
   "cell_type": "code",
   "execution_count": null,
   "metadata": {},
   "outputs": [],
   "source": [
    "def parse_text(link):\n",
    "    tags = []\n",
    "    people = []\n",
    "    fic_soup = BeautifulSoup(str(link), 'html.parser')\n",
    "    title = fic_soup.find('h3').text[18:-14]\n",
    "    my_people = fic_soup.find_all('a', {'class': 'pairing-link'})\n",
    "    my_tags = fic_soup.find_all('a', {'class': 'tag'})\n",
    "    for t in my_tags:\n",
    "        tags.append(t.text)\n",
    "    for p in my_people:\n",
    "        people.append(p.text)    \n",
    "    return people, tags, title"
   ]
  },
  {
   "cell_type": "code",
   "execution_count": null,
   "metadata": {},
   "outputs": [],
   "source": [
    "already_read = []"
   ]
  },
  {
   "cell_type": "code",
   "execution_count": null,
   "metadata": {},
   "outputs": [],
   "source": [
    "all_tags = []\n",
    "all_people = []"
   ]
  },
  {
   "cell_type": "markdown",
   "metadata": {},
   "source": [
    "Функция для записи тегов в файл:"
   ]
  },
  {
   "cell_type": "code",
   "execution_count": null,
   "metadata": {},
   "outputs": [],
   "source": [
    "def write_tags(tags, title, file):\n",
    "    with open(file, encoding = 'utf-8', mode = 'a') as corpus:\n",
    "        corpus.write('# ')\n",
    "        corpus.write(str(title))\n",
    "        corpus.write('\\n')\n",
    "        for t in tags:\n",
    "            corpus.write(t)\n",
    "            corpus.write('\\n')"
   ]
  },
  {
   "cell_type": "markdown",
   "metadata": {},
   "source": [
    "Дальше разбираемся с персонажами.\n",
    "\n",
    "Это словарь, в котором ключ - какое-нибудь из имён персонажа, значение - имя, которым мы хотим его называть. Это нужно потому, что авторы иногда называют героев не полным именем или только фамилией."
   ]
  },
  {
   "cell_type": "code",
   "execution_count": null,
   "metadata": {
    "scrolled": true
   },
   "outputs": [],
   "source": [
    "#Тут надо переделать словарь, но я не разбираюсь в персонажах\n",
    "p_and_p_dict = {\n",
    "    'Все': '@',\n",
    "    'упоминается Майкрофт Холмс': 'Майкрофт Холмс',\n",
    "    'джон': 'Джон Ватсон',\n",
    "    'шерлок': 'Шерлок Холмс',\n",
    "    'femШерлок': 'fem!Холмс',\n",
    "    'femДжеймс': 'fem!Мориарти',\n",
    "    'Майкрофт Х': 'Майкрофт Холмс',\n",
    "    'Шерлок Х': 'Шерлок Холмс',\n",
    "    'упоминается Шерлок': 'Шерлок Холмс',\n",
    "    'Шерил': 'fem!Холмс',\n",
    "    'Шерлoк': 'Шерлок Холмс',\n",
    "    'Шерли Холмс': 'fem!Холмс',\n",
    "    'Шерлок Холмс': 'Шерлок Холмс',\n",
    "    'Шерон Холмс': 'fem!Холмс',\n",
    "    'Джон В': 'Джон Ватсон',\n",
    "    'ДВ': 'Джон Ватсон',\n",
    "    'Шерлок Холмс': 'Шерлок Холмс',\n",
    "    'Мистер Холмс': 'Шерлок Холмс',\n",
    "    'Шерлок Холмс ': 'Шерлок Холмс',\n",
    "    'ШерлокХолмс': 'Шерлок Холмс',\n",
    "    'ШХ': 'Шерлок Холмс',\n",
    "    'Холмс': 'Шерлок Холмс',\n",
    "    'Шерлок ': 'Шерлок Холмс',\n",
    "    'Шерлок': 'Шерлок Холмс',\n",
    "    'Шерлок Х.': 'Шерлок Холмс',\n",
    "    '!Шерлок Холмс': 'Шерлок Холмс',\n",
    "    'Николь Холмс': 'fem!Холмс',\n",
    "    'И. Холмс': 'fem!Холмс',\n",
    "    'Кейт Джил Холмс ': 'fem!Холмс',\n",
    "    'Эмилия Холмс': 'fem!Холмс',\n",
    "    'fem!Шерлок': 'fem!Холмс',\n",
    "    'Виктория Шерлок Холмс': 'fem!Холмс',\n",
    "    'фэмШерлок': 'fem!Холмс',\n",
    "    'Шерринфорд Холмс': 'fem!Холмс',\n",
    "    'fem!Майкрофт Холмс': 'fem!Майкрофт Холмс',\n",
    "    'fem!Шерлок Холмс': 'fem!Холмс',\n",
    "    'Джон Хэмиш Ватсон': 'Джон Ватсон',\n",
    "    'Джон': 'Джон Ватсон',\n",
    "    'Джон,': 'Джон Ватсон',\n",
    "    'Джон Ватсон ': 'Джон Ватсон',\n",
    "    'Джон Уотсон ': 'Джон Ватсон',\n",
    "    'Джон В.': 'Джон Ватсон',\n",
    "    'Ватсон': 'Джон Ватсон',\n",
    "    'Джоан': 'fem!Ватсон',\n",
    "    'Джоан Уотсон': 'fem!Ватсон',\n",
    "    'Джун Уотсон': 'fem!Ватсон',\n",
    "    'Джон Ватсон': 'Джон Ватсон',\n",
    "    'Джоан Ватсон': 'fem!Ватсон',\n",
    "    'Эмма Ватсон': 'fem!Ватсон',\n",
    "    'femДжон': 'fem!Ватсон',\n",
    "    'fem!Джон': 'fem!Ватсон',\n",
    "    'Джоан': 'fem!Ватсон',\n",
    "    'fem!Джон Хэмиш Ватсон': 'fem!Ватсон', \n",
    "    'фэмДжон': 'fem!Ватсон',\n",
    "    'Гарриет': 'Гарриет Ватсон',\n",
    "    'Гарриет Уотсон': 'Гарриет Ватсон',\n",
    "    'Майкрофт': 'Майкрофт Холмс',\n",
    "    'Майкрофт Холмс…': 'Майкрофт Холмс',\n",
    "    'Майкрофт ': 'Майкрофт Холмс',\n",
    "    'Майкрофт Х.': 'Майкрофт Холмс',\n",
    "    'намек на Майкрфот Холмс': 'Майкрофт Холмс',\n",
    "    'МайкрофтХолмс': 'Майкрофт Холмс',\n",
    "    'леди Смоллвуд': 'Леди Алисия Смоллвуд',\n",
    "    'инспектор Лестрейд': 'Грегори Лестрейд',\n",
    "    'Грегори Лестред': 'Грегори Лестрейд',\n",
    "    'fem!Грегори Лестрейд': 'fem!Лестрейд',\n",
    "    'Олвен Лестрейд': 'fem!Лестрейд',\n",
    "    'Грег': 'Грегори Лестрейд',\n",
    "    'Грег Лестрейд': 'Грегори Лестрейд',\n",
    "    'Грегори': 'Грегори Лестрейд',\n",
    "    'Грегори мельком': 'Грегори Лестрейд',\n",
    "    'Лестрейд': 'Грегори Лестрейд',\n",
    "    'Джеймс Мориарти': 'Мориарти',\n",
    "    'Мориарти (упоминается) ': 'Мориарти',\n",
    "    'Шерли Мориарти ': 'fem!Мориарти',\n",
    "    'fem!Джеймс Мориарти': 'fem!Мориарти',\n",
    "    'фэмДжим Мориарти': 'fem!Мориарти',\n",
    "    'Джеймс Мориарти ': 'Мориарти',\n",
    "    'Джейми Мориарти': 'Мориарти',\n",
    "    'Джеймс Мориарти fem': 'fem!Мориарти',\n",
    "    'Джейн Мориарти': 'fem!Мориарти',\n",
    "    'Джим': 'Мориарти',\n",
    "    'Мориати': 'Мориарти',\n",
    "    'Джим Мориарти': 'Мориарти',\n",
    "    'Молли': 'Молли Хупер',\n",
    "    'Молли Хупер;': 'Молли Хупер',\n",
    "    'Молли Хупер ': 'Молли Хупер',\n",
    "    'Молли Купер': 'Молли Хупер',\n",
    "    'ОЖП': 'ОЖП',\n",
    "    'НЖП': 'ОЖП',\n",
    "    'Ирэн': 'Ирэн Адлер',\n",
    "    'Ирэн А': 'Ирэн Адлер',\n",
    "    'Ирэн А.': 'Ирэн Адлер',\n",
    "    'Ирен': 'Ирэн Адлер',\n",
    "    'ИА': 'Ирэн Адлер',\n",
    "    'Ирен Адлер': 'Ирэн Адлер',\n",
    "    'Мэри Морстен': 'Мэри Элизабет Морстен',\n",
    "    'Мэри ЭлизабетМорстен': 'Мэри Элизабет Морстен',\n",
    "    'Мэри Элизабет  Морстен': 'Мэри Элизабет Морстен',\n",
    "    'Эвр Холмс': 'Эврус Холмс',\n",
    "    'Эвер Холмс': 'Эврус Холмс',\n",
    "    'Эвр': 'Эврус Холмс',\n",
    "    'Сара': 'Сара Сойер',\n",
    "    'Себ': 'Себастьян Моран',\n",
    "    'Себастьян': 'Себастьян Моран',\n",
    "    'Моран': 'Себастьян Моран',\n",
    "    'Себастьянна Моран': 'fem!Себастьян Моран',\n",
    "    'Джону тоже досталось': 'Джон Ватсон',\n",
    "    'ОМП': 'ОМП',\n",
    "    'НМП': 'ОМП',\n",
    "    'так далее.': '@',\n",
    "    'остальные': '@',\n",
    "    'все остальные': '@',\n",
    "    'Остальные мимокрокодилы': '@',\n",
    "    'остальные присутствующие в сериале': '@',\n",
    "    'Пара моих персонажей': '@',\n",
    "    'жертва': '@',\n",
    "    '???': '@',\n",
    "    'т.д.и т.п.': '@',\n",
    "    'многие другие.': '@',\n",
    "    'с кое-кем': '@',\n",
    "    'несколько второстепенных': '@',\n",
    "    'другие комбинации четверых': '@',\n",
    "    'пока секрет': '@',\n",
    "    'а остальные пробегали мимо))': '@',\n",
    "    'и другие...': '@',\n",
    "    'Вишневый сад': '@',\n",
    "    'и другие ': '@',\n",
    "    'и другие': '@',\n",
    "    'Ожп': 'ОЖП',\n",
    "    'упоминаются все герои сериала': '@',\n",
    "    'герои сериала': '@',\n",
    "    'остальные.': '@',\n",
    "    'Кое-кто': '@',\n",
    "    'undefined': '@',\n",
    "    'кое-кто ещё': '@',\n",
    "    'другие.': '@',\n",
    "    'ожп': 'ОЖП',\n",
    "    'остальные': '@',\n",
    "    'остальные по мере появления': '@',\n",
    "    'Элла (мадам в красном берете)': 'Элла',\n",
    "    'Розамунд Мэри Ватсон': 'Розамунд Мэри',\n",
    "    'Розамунд Мэри Эдвин': 'Розамунд Мэри',\n",
    "    'Мэри Ватсон ': 'Розамунд Мэри',\n",
    "    'Мэри': 'Розамунд Мэри',\n",
    "    'Мэри Ватсон': 'Розамунд Мэри',\n",
    "    'Мэри Элизабет Ватсон ': 'Розамунд Мэри',\n",
    "    'Скотт.': 'Белла Скотт',\n",
    "    'Юстина Жавелин (омж)': 'Юстина Жавелин',\n",
    "    'Упоминается Антея': 'Антея',\n",
    "    'Том Лейтер — учитель анатомии': 'Том Лейтер',\n",
    "    'ты': 'читатель',\n",
    "    'Читатель': 'читатель',\n",
    "    'Ты': 'читатель',\n",
    "    'другие': '@',\n",
    "    'так далее': '@',\n",
    "    'и т': '@',\n",
    "    'многие другие': '@'\n",
    "}"
   ]
  },
  {
   "cell_type": "markdown",
   "metadata": {},
   "source": [
    "Функция, которая чистит список персонажей (честно, мне очень хотелось посмотреть в глаза авторам, которые используют так много странных символов, не предусмотренных, кажется, функционалом сайта)."
   ]
  },
  {
   "cell_type": "code",
   "execution_count": null,
   "metadata": {},
   "outputs": [],
   "source": [
    "def clean(p):\n",
    "    clean_people = []\n",
    "    p = p.replace('\\\\', '/').replace(' и ', '/').replace('|', '/').replace(',', '/').replace(';', '/').replace('+', '/').replace('.', '/')\n",
    "    pp = p.split('/')\n",
    "    for pp_two in pp:\n",
    "        pp_three = pp_two.split('\\\\')\n",
    "        for pp_four in pp_three:  \n",
    "            pp_five = pp_four.split(' и ')\n",
    "            for pp_six in pp_five:\n",
    "                pp_seven = pp_six.split('|')\n",
    "                for pp_eight in pp_seven:\n",
    "                    pp_nine = pp_eight.split(',')\n",
    "                    for pp_ten in pp_nine:\n",
    "                        pp_eleven = pp_ten.split(';')\n",
    "                        for pp_tw in pp_eleven:\n",
    "                            pp_thirteen = pp_ten.split(' + ')\n",
    "                            for n in pp_thirteen:\n",
    "                                if n != '':\n",
    "                                    if ']' in n:\n",
    "                                        nn = n.split(']')[1]\n",
    "                                    elif '!' in n and 'fem' not in n:\n",
    "                                        nn = n.split('!')[1]\n",
    "                                    else:\n",
    "                                        nn = n\n",
    "                                    if nn != '':\n",
    "                                        if nn[0] == ' ':\n",
    "                                            nn = nn[1:]\n",
    "                                    clean_people.append(nn)\n",
    "    return clean_people"
   ]
  },
  {
   "cell_type": "markdown",
   "metadata": {},
   "source": [
    "Записываем людей в файл:"
   ]
  },
  {
   "cell_type": "code",
   "execution_count": null,
   "metadata": {},
   "outputs": [],
   "source": [
    "def write_people(people, title, file, dictionary, all_people):\n",
    "    new_people = []\n",
    "    with open(file, encoding = 'utf-8', mode = 'a') as corpus:\n",
    "        corpus.write('# ')\n",
    "        corpus.write(title)\n",
    "        corpus.write('\\n')\n",
    "        for person in people:\n",
    "            p = clean(person)\n",
    "            for new_p in p:\n",
    "                new_p = new_p.replace('\"', '')\n",
    "                if new_p.endswith(' '):\n",
    "                    new_p = new_p[:1]\n",
    "                if new_p.startswith(' '):\n",
    "                    new_p = new_p[1:]\n",
    "                if new_p in dictionary.keys():\n",
    "                    new_p = dictionary[new_p]\n",
    "                elif 'ОЖП' in new_p or 'ожп' in new_p or 'НЖП' in new_p or 'нжп' in new_p:\n",
    "                    new_p = 'ОЖП'\n",
    "                elif 'ОМП' in new_p or 'омп' in new_p or 'НМП' in new_p or 'нмп' in new_p:\n",
    "                    new_p = 'ОМП'\n",
    "                new_people.append(new_p)\n",
    "        for p_p in set(new_people):\n",
    "            if p_p != '@' and len(p_p) != 1:\n",
    "                corpus.write(p_p)\n",
    "                corpus.write('\\n')\n",
    "                all_people.append(p_p)\n",
    "        return all_people"
   ]
  },
  {
   "cell_type": "markdown",
   "metadata": {},
   "source": [
    "Цикл, который проходит по нужному числу страниц:"
   ]
  },
  {
   "cell_type": "code",
   "execution_count": null,
   "metadata": {},
   "outputs": [],
   "source": [
    "titles = []\n",
    "for x in range(51):\n",
    "    #for z in range(1):\n",
    "    print('page', x)\n",
    "    link = parse_page(x, 6)\n",
    "    for l in link:\n",
    "        people, tags, title = parse_text(l)\n",
    "        if title not in already_read:\n",
    "            print(title)\n",
    "            already_read.append(title)\n",
    "            all_tags.extend(tags)\n",
    "            num = str(len(already_read))\n",
    "            write_tags(tags, num, 'mix_tags.txt')\n",
    "            if len(people) >= 2:\n",
    "                all_people = write_people(people, num, 'mix_people.txt', p_and_p_dict, all_people)"
   ]
  },
  {
   "cell_type": "markdown",
   "metadata": {},
   "source": [
    "Ещё на всякий случай можно получить списки всех использованных тегов и персонажей. Я пока не придумала, для чего это надо, но, возможно, получится построить какие-нибудь красивые столбчатые диаграммы или что-нибудь ещё в этом роде."
   ]
  },
  {
   "cell_type": "code",
   "execution_count": null,
   "metadata": {},
   "outputs": [],
   "source": [
    "print(Counter(all_tags))"
   ]
  },
  {
   "cell_type": "code",
   "execution_count": null,
   "metadata": {},
   "outputs": [],
   "source": [
    "import pprint"
   ]
  },
  {
   "cell_type": "code",
   "execution_count": null,
   "metadata": {},
   "outputs": [],
   "source": [
    "c = Counter(all_people).most_common()"
   ]
  },
  {
   "cell_type": "code",
   "execution_count": null,
   "metadata": {},
   "outputs": [],
   "source": [
    "pprint.pprint(c)"
   ]
  },
  {
   "cell_type": "code",
   "execution_count": null,
   "metadata": {},
   "outputs": [],
   "source": []
  },
  {
   "cell_type": "code",
   "execution_count": null,
   "metadata": {},
   "outputs": [],
   "source": []
  }
 ],
 "metadata": {
  "kernelspec": {
   "display_name": "Python 3",
   "language": "python",
   "name": "python3"
  },
  "language_info": {
   "codemirror_mode": {
    "name": "ipython",
    "version": 3
   },
   "file_extension": ".py",
   "mimetype": "text/x-python",
   "name": "python",
   "nbconvert_exporter": "python",
   "pygments_lexer": "ipython3",
   "version": "3.8.6rc1"
  }
 },
 "nbformat": 4,
 "nbformat_minor": 4
}
